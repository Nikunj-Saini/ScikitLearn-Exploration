{
 "cells": [
  {
   "cell_type": "code",
   "execution_count": 3,
   "id": "2e549afe-2014-4f85-bb58-202c5e8cc0a5",
   "metadata": {},
   "outputs": [],
   "source": [
    "import pandas as pd \n",
    "from sklearn import datasets \n",
    "from sklearn.model_selection import train_test_split\n",
    "from sklearn.preprocessing import StandardScaler,MinMaxScaler"
   ]
  },
  {
   "cell_type": "markdown",
   "id": "174f74eb-61ea-48bd-b4bf-6fd4783be3e0",
   "metadata": {},
   "source": [
    "# 1.Load Dataset"
   ]
  },
  {
   "cell_type": "code",
   "execution_count": 5,
   "id": "e7da3284-9eaa-4c63-8b30-08fc5f44b4da",
   "metadata": {},
   "outputs": [],
   "source": [
    "wine = datasets.load_wine()\n",
    "df = pd.DataFrame(wine.data , columns = wine.feature_names)\n",
    "df['target'] = wine.target"
   ]
  },
  {
   "cell_type": "markdown",
   "id": "862bd45c-8466-45cd-85d1-12d5d8c76da9",
   "metadata": {},
   "source": [
    "# 2. Split into train/test"
   ]
  },
  {
   "cell_type": "code",
   "execution_count": 7,
   "id": "29202ea9-32eb-4d00-8468-b2470c66254d",
   "metadata": {},
   "outputs": [
    {
     "name": "stdout",
     "output_type": "stream",
     "text": [
      "Before Scaling:      alcohol  malic_acid   ash  alcalinity_of_ash  magnesium  total_phenols  \\\n",
      "158    14.34        1.68  2.70               25.0       98.0           2.80   \n",
      "137    12.53        5.51  2.64               25.0       96.0           1.79   \n",
      "98     12.37        1.07  2.10               18.5       88.0           3.52   \n",
      "159    13.48        1.67  2.64               22.5       89.0           2.60   \n",
      "38     13.07        1.50  2.10               15.5       98.0           2.40   \n",
      "\n",
      "     flavanoids  nonflavanoid_phenols  proanthocyanins  color_intensity   hue  \\\n",
      "158        1.31                  0.53             2.70            13.00  0.57   \n",
      "137        0.60                  0.63             1.10             5.00  0.82   \n",
      "98         3.75                  0.24             1.95             4.50  1.04   \n",
      "159        1.10                  0.52             2.29            11.75  0.57   \n",
      "38         2.64                  0.28             1.37             3.70  1.18   \n",
      "\n",
      "     od280/od315_of_diluted_wines  proline  \n",
      "158                          1.96    660.0  \n",
      "137                          1.69    515.0  \n",
      "98                           2.77    660.0  \n",
      "159                          1.78    620.0  \n",
      "38                           2.69   1020.0  \n"
     ]
    }
   ],
   "source": [
    "X = df.drop('target', axis = 1 )\n",
    "Y = df['target']\n",
    "X_train, X_test, y_train, y_test = train_test_split(X, Y, test_size=0.2, random_state=42)\n",
    "\n",
    "print(\"Before Scaling:\", X_train.head())"
   ]
  },
  {
   "cell_type": "markdown",
   "id": "b91a5e25-775a-4aab-b2f2-017572bad9c0",
   "metadata": {},
   "source": [
    "# 3. Standardization (Z-Score scaling )"
   ]
  },
  {
   "cell_type": "code",
   "execution_count": 9,
   "id": "c8b44f30-decc-4fa9-9454-0b0b80000116",
   "metadata": {},
   "outputs": [
    {
     "name": "stdout",
     "output_type": "stream",
     "text": [
      "After scaling (first 5 rows):\n",
      " [[ 1.66529275 -0.60840587  1.21896194  1.60540017 -0.16738426  0.80400157\n",
      "  -0.6916784   1.26722552  1.8775398   3.41947305 -1.65632857 -0.87940904\n",
      "  -0.24860607]\n",
      " [-0.54952506  2.7515415   1.00331502  1.60540017 -0.30437887 -0.78538376\n",
      "  -1.40123291  2.04959953 -0.87350523 -0.0248012  -0.58463272 -1.25462095\n",
      "  -0.72992237]\n",
      " [-0.74531007 -1.14354109 -0.93750727 -0.28270426 -0.8523573   1.93702874\n",
      "   1.7467906  -1.00165913  0.58798744 -0.24006834  0.35845962  0.2462267\n",
      "  -0.24860607]\n",
      " [ 0.61294837 -0.61717858  1.00331502  0.87920616 -0.78385999  0.4892718\n",
      "  -0.90154664  1.18898812  1.17258451  2.8813052  -1.65632857 -1.12955031\n",
      "  -0.38138298]\n",
      " [ 0.11124931 -0.76631462 -0.93750727 -1.15413707 -0.16738426  0.17454204\n",
      "   0.63748708 -0.68870952 -0.40926638 -0.58449577  0.95860929  0.1350528\n",
      "   0.94638614]]\n"
     ]
    }
   ],
   "source": [
    "scaler = StandardScaler()\n",
    "X_train_scaled = scaler.fit_transform(X_train)\n",
    "X_test_scaled = scaler.transform(X_test)\n",
    "\n",
    "print(\"After scaling (first 5 rows):\\n\", X_train_scaled[:5])"
   ]
  },
  {
   "cell_type": "markdown",
   "id": "f692fc96-343c-42bc-88af-7f33e1761f60",
   "metadata": {},
   "source": [
    "# 4. Min-Max Scaling example"
   ]
  },
  {
   "cell_type": "code",
   "execution_count": 10,
   "id": "db633365-f992-41ef-82b5-6af91cc0a4ed",
   "metadata": {},
   "outputs": [
    {
     "name": "stdout",
     "output_type": "stream",
     "text": [
      "MinMax scaled (first 5 rows):\n",
      " [[0.87105263 0.16089613 0.71657754 0.74226804 0.30434783 0.62758621\n",
      "  0.20464135 0.75471698 0.72151899 1.         0.07317073 0.25274725\n",
      "  0.30102443]\n",
      " [0.39473684 0.94093686 0.68449198 0.74226804 0.2826087  0.27931034\n",
      "  0.05485232 0.94339623 0.21518987 0.28952043 0.27642276 0.15384615\n",
      "  0.18676123]\n",
      " [0.35263158 0.03665988 0.39572193 0.40721649 0.19565217 0.87586207\n",
      "  0.71940928 0.20754717 0.48417722 0.24511545 0.45528455 0.54945055\n",
      "  0.30102443]\n",
      " [0.64473684 0.15885947 0.68449198 0.61340206 0.20652174 0.55862069\n",
      "  0.16033755 0.73584906 0.59177215 0.88898757 0.07317073 0.18681319\n",
      "  0.26950355]\n",
      " [0.53684211 0.12423625 0.39572193 0.25257732 0.30434783 0.48965517\n",
      "  0.48523207 0.28301887 0.30063291 0.1740675  0.56910569 0.52014652\n",
      "  0.58471237]]\n"
     ]
    }
   ],
   "source": [
    "minmax_scaler = MinMaxScaler()\n",
    "X_train_minmax = minmax_scaler.fit_transform(X_train)\n",
    "\n",
    "print(\"MinMax scaled (first 5 rows):\\n\", X_train_minmax[:5])"
   ]
  },
  {
   "cell_type": "code",
   "execution_count": null,
   "id": "d5b87ec2-f17a-4989-a479-910699071e6a",
   "metadata": {},
   "outputs": [],
   "source": []
  }
 ],
 "metadata": {
  "kernelspec": {
   "display_name": "Python 3 (ipykernel)",
   "language": "python",
   "name": "python3"
  },
  "language_info": {
   "codemirror_mode": {
    "name": "ipython",
    "version": 3
   },
   "file_extension": ".py",
   "mimetype": "text/x-python",
   "name": "python",
   "nbconvert_exporter": "python",
   "pygments_lexer": "ipython3",
   "version": "3.13.0"
  }
 },
 "nbformat": 4,
 "nbformat_minor": 5
}
